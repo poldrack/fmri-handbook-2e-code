{
 "cells": [
  {
   "cell_type": "markdown",
   "metadata": {},
   "source": [
    "In this notebook we will work through a representational similarity analysis of the Haxby dataset."
   ]
  },
  {
   "cell_type": "code",
   "execution_count": null,
   "metadata": {
    "collapsed": false
   },
   "outputs": [],
   "source": [
    "import numpy\n",
    "import nibabel\n",
    "import os\n",
    "from haxby_data import HaxbyData\n",
    "from nilearn.input_data import NiftiMasker\n",
    "%matplotlib inline\n",
    "import matplotlib.pyplot as plt\n",
    "import sklearn.manifold\n",
    "import scipy.cluster.hierarchy\n",
    "\n",
    "datadir='/home/vagrant/nilearn_data/haxby2001/subj1'\n",
    "\n",
    "print 'Using data from',datadir\n",
    "\n",
    "haxbydata=HaxbyData(datadir)\n",
    "\n",
    "modeldir=os.path.join(datadir,'blockmodel')\n",
    "try:\n",
    "    os.chdir(modeldir)\n",
    "except:\n",
    "    print 'problem changing to',modeldir\n",
    "    print 'you may need to run the Classification Analysis script first'\n",
    "    \n"
   ]
  },
  {
   "cell_type": "code",
   "execution_count": null,
   "metadata": {
    "collapsed": true
   },
   "outputs": [],
   "source": [
    "use_whole_brain=False\n",
    "\n",
    "if use_whole_brain:\n",
    "    maskimg=haxbydata.brainmaskfile\n",
    "else:\n",
    "    maskimg=haxbydata.vtmaskfile\n",
    "    \n",
    "nifti_masker = NiftiMasker(mask_img=maskimg, standardize=False)\n",
    "fmri_masked = nifti_masker.fit_transform(os.path.join(modeldir,'zstatdata.nii.gz'))\n"
   ]
  },
  {
   "cell_type": "markdown",
   "metadata": {},
   "source": [
    "Let's ask the following question: Are cats (condition 3) more similar to human faces (condition 2) than to chairs (condition 8)?  To do this, we compute the between-run similarity for all conditions against each other."
   ]
  },
  {
   "cell_type": "code",
   "execution_count": null,
   "metadata": {
    "collapsed": false
   },
   "outputs": [],
   "source": [
    "cc=numpy.zeros((8,8,12,12))\n",
    "\n",
    "# loop through conditions\n",
    "for ci in range(8):\n",
    "    for cj in range(8):\n",
    "        for i in range(12):\n",
    "            for j in range(12):\n",
    "                idx_i=numpy.where(numpy.logical_and(haxbydata.runs==i,haxbydata.condnums==ci+1))[0][0]\n",
    "                idx_j=numpy.where(numpy.logical_and(haxbydata.runs==j,haxbydata.condnums==cj+1))[0][0]\n",
    "                cc[ci,cj,i,j]=numpy.corrcoef(fmri_masked[idx_i,:],fmri_masked[idx_j,:])[0,1]\n",
    "\n",
    "meansim=numpy.zeros((8,8))\n",
    "for ci in range(8):\n",
    "    for cj in range(8):\n",
    "        cci=cc[ci,cj,:,:]\n",
    "        meansim[ci,cj]=numpy.mean(numpy.hstack((cci[numpy.triu_indices(12,1)],\n",
    "                                            cci[numpy.tril_indices(12,1)])))\n"
   ]
  },
  {
   "cell_type": "code",
   "execution_count": null,
   "metadata": {
    "collapsed": false
   },
   "outputs": [],
   "source": [
    "plt.imshow(meansim,interpolation='nearest')\n"
   ]
  },
  {
   "cell_type": "code",
   "execution_count": null,
   "metadata": {
    "collapsed": true
   },
   "outputs": [],
   "source": [
    "l=scipy.cluster.hierarchy.ward(1.0 - meansim)"
   ]
  },
  {
   "cell_type": "code",
   "execution_count": null,
   "metadata": {
    "collapsed": false
   },
   "outputs": [],
   "source": [
    "cl=scipy.cluster.hierarchy.dendrogram(l,labels=haxbydata.condlabels,orientation='right')\n"
   ]
  },
  {
   "cell_type": "markdown",
   "metadata": {},
   "source": [
    "Let's test whether similarity is higher for faces across runs within-condition versus similarity between faces and all other categories. Note that we would generally want to compute this for each subject and do statistics on the means across subjects, rather than computing the statistics within-subject as we do below (which treats subject as a fixed effect)"
   ]
  },
  {
   "cell_type": "code",
   "execution_count": null,
   "metadata": {
    "collapsed": false
   },
   "outputs": [],
   "source": [
    "# within-condition\n",
    "\n",
    "face_corr={}\n",
    "corr_means=[]\n",
    "corr_stderr=[]\n",
    "corr_stimtype=[]\n",
    "for k in haxbydata.cond_dict.iterkeys():\n",
    "    face_corr[k]=[]\n",
    "    for i in range(12):\n",
    "        for j in range(12):\n",
    "            if i==j:\n",
    "                continue\n",
    "            face_corr[k].append(cc[haxbydata.cond_dict['face']-1,haxbydata.cond_dict[k]-1,i,j])\n",
    "\n",
    "    corr_means.append(numpy.mean(face_corr[k]))\n",
    "    corr_stderr.append(numpy.std(face_corr[k])/numpy.sqrt(len(face_corr[k])))\n",
    "    corr_stimtype.append(k)"
   ]
  },
  {
   "cell_type": "code",
   "execution_count": null,
   "metadata": {
    "collapsed": false
   },
   "outputs": [],
   "source": [
    "idx=numpy.argsort(corr_means)[::-1]\n",
    "plt.bar(numpy.arange(0.5,8.),[corr_means[i] for i in idx],yerr=[corr_stderr[i] for i in idx]) #,yerr=corr_sterr[idx])\n",
    "t=plt.xticks(numpy.arange(1,9), [corr_stimtype[i] for i in idx],rotation=70)\n",
    "plt.ylabel('Mean between-run correlation with faces')"
   ]
  },
  {
   "cell_type": "code",
   "execution_count": null,
   "metadata": {
    "collapsed": true
   },
   "outputs": [],
   "source": [
    "import sklearn.manifold\n",
    "mds=sklearn.manifold.MDS()\n",
    "#mds=sklearn.manifold.TSNE(early_exaggeration=10,perplexity=70,learning_rate=100,n_iter=5000)\n",
    "encoding=mds.fit_transform(fmri_masked)"
   ]
  },
  {
   "cell_type": "code",
   "execution_count": null,
   "metadata": {
    "collapsed": false
   },
   "outputs": [],
   "source": [
    "plt.figure(figsize=(12,12))\n",
    "ax=plt.axes() #[numpy.min(encoding[0]),numpy.max(encoding[0]),numpy.min(encoding[1]),numpy.max(encoding[1])])\n",
    "ax.scatter(encoding[:,0],encoding[:,1])\n",
    "offset=0.01\n",
    "for i in range(encoding.shape[0]):\n",
    "    ax.annotate(haxbydata.conditions[i].split('-')[0],(encoding[i,0],encoding[i,1]),xytext=[encoding[i,0]+offset,encoding[i,1]+offset])\n",
    "#for i in range(encoding.shape[0]):\n",
    "#    plt.text(encoding[i,0],encoding[i,1],'%d'%haxbydata.condnums[i])\n"
   ]
  },
  {
   "cell_type": "code",
   "execution_count": null,
   "metadata": {
    "collapsed": true
   },
   "outputs": [],
   "source": [
    "mdsmeans=numpy.zeros((2,8))\n",
    "for i in range(8):\n",
    "    mdsmeans[:,i]=numpy.mean(encoding[haxbydata.condnums==(i+1),:],0)"
   ]
  },
  {
   "cell_type": "code",
   "execution_count": null,
   "metadata": {
    "collapsed": false
   },
   "outputs": [],
   "source": [
    "for i in range(2):\n",
    "    print 'Dimension %d:'%int(i+1)\n",
    "    idx=numpy.argsort(mdsmeans[i,:])\n",
    "    for j in idx:\n",
    "        print '%s:\\t%f'%(haxbydata.condlabels[j],mdsmeans[i,j])\n",
    "    print ''\n",
    "\n"
   ]
  },
  {
   "cell_type": "code",
   "execution_count": null,
   "metadata": {
    "collapsed": true
   },
   "outputs": [],
   "source": []
  },
  {
   "cell_type": "code",
   "execution_count": null,
   "metadata": {
    "collapsed": true
   },
   "outputs": [],
   "source": []
  }
 ],
 "metadata": {
  "git": {
   "suppress_outputs": true
  },
  "kernelspec": {
   "display_name": "Python 2",
   "language": "python",
   "name": "python2"
  },
  "language_info": {
   "codemirror_mode": {
    "name": "ipython",
    "version": 2
   },
   "file_extension": ".py",
   "mimetype": "text/x-python",
   "name": "python",
   "nbconvert_exporter": "python",
   "pygments_lexer": "ipython2",
   "version": "2.7.10"
  }
 },
 "nbformat": 4,
 "nbformat_minor": 0
}