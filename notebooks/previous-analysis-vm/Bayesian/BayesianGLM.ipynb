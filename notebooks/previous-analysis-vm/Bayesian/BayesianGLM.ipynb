{
 "cells": [
  {
   "cell_type": "markdown",
   "metadata": {},
   "source": [
    "This notebook demonstrates the basics of Bayesian estimation of the general linear model.  This presentation is based on material from http://twiecki.github.io/blog/2013/08/12/bayesian-glms-1/ .  First let's generate some data for a simple design."
   ]
  },
  {
   "cell_type": "code",
   "execution_count": 1,
   "metadata": {
    "collapsed": false
   },
   "outputs": [],
   "source": [
    "import os,sys\n",
    "import numpy\n",
    "%matplotlib inline\n",
    "import matplotlib.pyplot as plt\n",
    "sys.path.insert(0,'../')\n",
    "from utils.mkdesign import create_design_singlecondition\n",
    "from nipy.modalities.fmri.hemodynamic_models import spm_hrf,compute_regressor\n",
    "from statsmodels.tsa.arima_process import arma_generate_sample\n",
    "import scipy.stats\n",
    "import pymc3\n",
    "\n",
    "tslength=300\n",
    "d,design=create_design_singlecondition(blockiness=1.0,deslength=tslength,\n",
    "                                       blocklength=20,offset=20)\n",
    "regressor,_=compute_regressor(design,'spm',numpy.arange(0,tslength))\n",
    "\n",
    "\n",
    "ar1_noise=arma_generate_sample([1,0.3],[1,0.],len(regressor))\n",
    "\n",
    "X=numpy.hstack((regressor,numpy.ones((len(regressor),1))))\n",
    "beta=numpy.array([4,100])\n",
    "noise_sd=10\n",
    "data = X.dot(beta) + ar1_noise*noise_sd"
   ]
  },
  {
   "cell_type": "markdown",
   "metadata": {},
   "source": [
    "First estimate the model using ordinary least squares"
   ]
  },
  {
   "cell_type": "code",
   "execution_count": 50,
   "metadata": {
    "collapsed": false
   },
   "outputs": [
    {
     "name": "stdout",
     "output_type": "stream",
     "text": [
      "betas [slope,intercept]: [  4.23064554  99.09470629]\n",
      "t [for slope vs. zero]= 3.68333352017 p= 0.000136652326999\n"
     ]
    }
   ],
   "source": [
    "beta_hat=numpy.linalg.inv(X.T.dot(X)).dot(X.T).dot(data)\n",
    "resid=data - X.dot(beta_hat)\n",
    "df=(X.shape[0] - X.shape[1])\n",
    "mse=resid.dot(resid)\n",
    "sigma2hat=(mse)/float(df)\n",
    "\n",
    "xvar=X[:,0].dot(X[:,0])\n",
    "c=numpy.array([1,0])  # contrast for PPI\n",
    "t=c.dot(beta_hat)/numpy.sqrt(c.dot(numpy.linalg.inv(X.T.dot(X)).dot(c))*sigma2hat)\n",
    "print 'betas [slope,intercept]:',beta_hat\n",
    "print 't [for slope vs. zero]=',t, 'p=',1.0 - scipy.stats.t.cdf(t,X.shape[0] - X.shape[1])\n",
    "\n"
   ]
  },
  {
   "cell_type": "markdown",
   "metadata": {},
   "source": [
    "Compute the frequentist 95% confidence intervals"
   ]
  },
  {
   "cell_type": "code",
   "execution_count": 55,
   "metadata": {
    "collapsed": false
   },
   "outputs": [
    {
     "name": "stdout",
     "output_type": "stream",
     "text": [
      "slope: [2.5563624911412717, 5.9049285921331549]\n",
      "intercept: [97.930913907449479, 100.25849866758526]\n"
     ]
    }
   ],
   "source": [
    "confs = [[beta_hat[0] - scipy.stats.t.ppf(0.975,df) * numpy.sqrt(sigma2hat/xvar), \n",
    "         beta_hat[0] + scipy.stats.t.ppf(0.975,df) * numpy.sqrt(sigma2hat/xvar)],\n",
    "         [beta_hat[1] - scipy.stats.t.ppf(0.975,df) * numpy.sqrt(sigma2hat/X.shape[0]), \n",
    "         beta_hat[1] + scipy.stats.t.ppf(0.975,df) * numpy.sqrt(sigma2hat/X.shape[0])]]\n",
    "\n",
    "print 'slope:',confs[0]\n",
    "print 'intercept:',confs[1]"
   ]
  },
  {
   "cell_type": "markdown",
   "metadata": {},
   "source": [
    "Now let's estimate the same model using Bayesian estimation.  First we use the analytic framework described in the previous notebook.  "
   ]
  },
  {
   "cell_type": "code",
   "execution_count": 56,
   "metadata": {
    "collapsed": false
   },
   "outputs": [
    {
     "name": "stdout",
     "output_type": "stream",
     "text": [
      "betas [slope,intercept]: [  4.77446993  98.49628742]\n"
     ]
    }
   ],
   "source": [
    "prior_sd=10\n",
    "v=numpy.identity(2)*(prior_sd**2)\n",
    "\n",
    "beta_hat_bayes=numpy.linalg.inv(X.T.dot(X) + (sigma2hat/(prior_sd**2))*numpy.identity(2)).dot(X.T.dot(data))\n",
    "print 'betas [slope,intercept]:',beta_hat_bayes"
   ]
  },
  {
   "cell_type": "markdown",
   "metadata": {},
   "source": [
    "Now let's estimate it using Markov Chain Monte Carlo (MCMC) using the No U-turn Sampler (NUTS) (http://www.stat.columbia.edu/~gelman/research/unpublished/nuts.pdf) as implemented in PyMC3."
   ]
  },
  {
   "cell_type": "code",
   "execution_count": 23,
   "metadata": {
    "collapsed": false
   },
   "outputs": [],
   "source": [
    "with pymc3.Model() as model: # model specifications in PyMC3 are wrapped in a with-statement\n",
    "    # Define priors\n",
    "    sigma = pymc3.HalfCauchy('sigma', beta=10, testval=1.)\n",
    "    intercept = pymc3.Normal('Intercept', 0, sd=prior_sd)\n",
    "    x_coeff = pymc3.Normal('x', 0, sd=prior_sd)\n",
    "    \n",
    "    # Define likelihood\n",
    "    likelihood = pymc3.Normal('y', mu=intercept + x_coeff * X[:,0], \n",
    "                        sd=sigma, observed=data)\n",
    "    \n",
    "    # Inference!\n",
    "    start = pymc3.find_MAP() # Find starting value by optimization\n",
    "    step = pymc3.NUTS(scaling=start) # Instantiate MCMC sampling algorithm\n",
    "    trace = pymc3.sample(2000, step, start=start, progressbar=False) # draw 2000 posterior samples using NUTS sampling"
   ]
  },
  {
   "cell_type": "markdown",
   "metadata": {},
   "source": [
    "The starting point is the maximum a posteriori (MAP) estimate, which is the same as the one we just computed above."
   ]
  },
  {
   "cell_type": "code",
   "execution_count": 24,
   "metadata": {
    "collapsed": false
   },
   "outputs": [
    {
     "name": "stdout",
     "output_type": "stream",
     "text": [
      "{'x': array(4.7718690066762335), 'sigma_log': array(2.324134520847645), 'Intercept': array(98.49917227501545)}\n"
     ]
    }
   ],
   "source": [
    "print start"
   ]
  },
  {
   "cell_type": "markdown",
   "metadata": {},
   "source": [
    "Now let's look at the results from the MCMC analysis for the slope parameter.  Note that we discard the first 100 steps of the MCMC trace in order to \"burn in\" the chain (http://stats.stackexchange.com/questions/88819/mcmc-methods-burning-samples).  "
   ]
  },
  {
   "cell_type": "code",
   "execution_count": 44,
   "metadata": {
    "collapsed": false
   },
   "outputs": [
    {
     "name": "stdout",
     "output_type": "stream",
     "text": [
      "\n",
      "x:\n",
      " \n",
      "  Mean             SD               MC Error         95% HPD interval\n",
      "  -------------------------------------------------------------------\n",
      "  \n",
      "  4.801            1.194            0.039            [2.491, 7.112]\n",
      "\n",
      "  Posterior quantiles:\n",
      "  2.5            25             50             75             97.5\n",
      "  |--------------|==============|==============|--------------|\n",
      "  \n",
      "  2.375          3.995          4.812          5.667          7.059\n",
      "\n",
      "None\n"
     ]
    },
    {
     "data": {
      "text/plain": [
       "<matplotlib.figure.Figure at 0x11963cd90>"
      ]
     },
     "metadata": {},
     "output_type": "display_data"
    },
    {
     "data": {
      "image/png": "[encoded data removed]",
      "text/plain": [
       "<matplotlib.figure.Figure at 0x11963c990>"
      ]
     },
     "metadata": {},
     "output_type": "display_data"
    }
   ],
   "source": [
    "plt.figure(figsize=(7, 7))\n",
    "pymc3.traceplot(trace[100:],'x')\n",
    "plt.tight_layout();\n",
    "pymc3.plots.summary(trace[100:],vars='x')"
   ]
  },
  {
   "cell_type": "markdown",
   "metadata": {
    "collapsed": true
   },
   "source": [
    "How does the 95% highest probability density (HPD) region from the Bayesian analysis compare to the frequentist 95% confidence intervals?\n"
   ]
  },
  {
   "cell_type": "code",
   "execution_count": null,
   "metadata": {
    "collapsed": true
   },
   "outputs": [],
   "source": []
  }
 ],
 "metadata": {
  "kernelspec": {
   "display_name": "Python 2",
   "language": "python",
   "name": "python2"
  },
  "language_info": {
   "codemirror_mode": {
    "name": "ipython",
    "version": 2
   },
   "file_extension": ".py",
   "mimetype": "text/x-python",
   "name": "python",
   "nbconvert_exporter": "python",
   "pygments_lexer": "ipython2",
   "version": "2.7.10"
  }
 },
 "nbformat": 4,
 "nbformat_minor": 0
}
