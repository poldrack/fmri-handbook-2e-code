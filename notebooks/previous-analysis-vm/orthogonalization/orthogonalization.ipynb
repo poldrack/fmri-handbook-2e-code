{
 "metadata": {
  "name": "orthogonalization",
  "signature": "sha256:d7e1667d5a16f3f959227f41826c98085271ce725ca109785fc8b29a8ceb8379"
 },
 "nbformat": 3,
 "nbformat_minor": 0,
 "worksheets": [
  {
   "cells": [
    {
     "cell_type": "markdown",
     "metadata": {},
     "source": [
      "In the analysis of neuroimaging data using general linear models (GLMs), it is often common to find that regressors of interest\n",
      "are correlated with one another.  While this inflates the variance of the estimated parameters, the GLM ensures that the \n",
      "estimated parameters only reflect the unique variance associated with the particular regressor; any shared variance\n",
      "between regressors, while accounted for in the total model variance, is not reflected in the individual parameter \n",
      "estimates.  In general, this is as it should be; when it is not possible to uniquely attribute variance to any\n",
      "particular regressor, then it should be left out.  \n",
      "\n",
      "Unfortunately, there is a tendency within the fMRI literature to overthrow this feature of the GLM by \"orthogonalizing\"\n",
      "variables that are correlated.  This, in effect, assigns the shared variance to one of the correlated variables based \n",
      "on the experimenter's decision.  While statistically valid, this raises serious conceptual concerns about the \n",
      "interpretation of the resulting parameter estimates.\n",
      "\n",
      "The first point to make is that, contrary to claims often seen in fMRI papers, the presence of correlated regressors\n",
      "does not require the use of orthogonalization; in fact, in our opinion there are very few cases in which it is appropriate\n",
      "to use orthogonalization, and its use will most often result in problematic conclusions.\n",
      "\n",
      "*What is orthogonalization?*\n",
      "\n",
      "As an example of how the GLM deals with correlated regressors and how this is affected by orthogonalization,\n",
      "we first generate some synthetic data to work with."
     ]
    },
    {
     "cell_type": "code",
     "collapsed": false,
     "input": [
      "%pylab inline\n",
      "import numpy as np\n",
      "import matplotlib.pyplot as plt\n",
      "np.set_printoptions(precision=2)\n",
      "\n",
      "npts=100\n",
      "X = np.random.multivariate_normal([0,0],[[1,0.5],[0.5,1]],npts)\n",
      "X = X-np.mean(X,0)  \n",
      "\n",
      "params  = [1,2]\n",
      "y_noise = 0.2\n",
      "Y = np.dot(X,params) + y_noise*np.random.randn(npts)\n",
      "Y = Y-np.mean(Y)    # remove mean so we can skip ones in design mtx\n"
     ],
     "language": "python",
     "metadata": {},
     "outputs": [
      {
       "output_type": "stream",
       "stream": "stdout",
       "text": [
        "Populating the interactive namespace from numpy and matplotlib\n"
       ]
      }
     ],
     "prompt_number": 1
    },
    {
     "cell_type": "markdown",
     "metadata": {},
     "source": [
      "Plot the relations between the two columns in X and the Y variable."
     ]
    },
    {
     "cell_type": "code",
     "collapsed": false,
     "input": [
      "for i in range(2):\n",
      "    print 'correlation(X[%d],Y))'%i, '= %4.3f' % np.corrcoef(X[:,i],Y)[0,1]\n",
      "    plt.subplot(1,2,i+1)\n",
      "    plt.scatter(X[:,i],Y)"
     ],
     "language": "python",
     "metadata": {},
     "outputs": [
      {
       "output_type": "stream",
       "stream": "stdout",
       "text": [
        "correlation(X[0],Y)) = 0.753\n",
        "correlation(X[1],Y)) = 0.946\n"
       ]
      },
      {
       "metadata": {},
       "output_type": "display_data",
       "png": "[encoded data removed]",
       "text": [
        "<matplotlib.figure.Figure at 0x36b1a10>"
       ]
      }
     ],
     "prompt_number": 2
    },
    {
     "cell_type": "markdown",
     "metadata": {},
     "source": [
      "Now let's compute the parameters for the two columns in X using linear regression.  They should come out very close\n",
      "to the values specified for params above."
     ]
    },
    {
     "cell_type": "code",
     "collapsed": false,
     "input": [
      "params_est =  np.linalg.lstsq(X,Y)[0]\n",
      "\n",
      "print params_est"
     ],
     "language": "python",
     "metadata": {},
     "outputs": [
      {
       "output_type": "stream",
       "stream": "stdout",
       "text": [
        "[ 1.    1.98]\n"
       ]
      }
     ],
     "prompt_number": 3
    },
    {
     "cell_type": "markdown",
     "metadata": {},
     "source": [
      "Now let's orthogonalize the second regressor (X[1]) with respect to the first (X[0]) and create a new orthogonalized \n",
      "design matrix X_orth.  One way to do this is to fit a regression and then take the residuals."
     ]
    },
    {
     "cell_type": "code",
     "collapsed": false,
     "input": [
      "x0_slope=numpy.linalg.lstsq(X[:,0].reshape((npts,1)),X[:,1].reshape((npts,1)))[0]\n",
      "\n",
      "X_orth=X.copy()\n",
      "\n",
      "X_orth[:,1]=X[:,1] - X[:,0]*x0_slope\n",
      "print 'Correlation matrix for original design matrix'\n",
      "print numpy.corrcoef(X.T)\n",
      "\n",
      "print 'Correlation matrix for orthogonalized design matrix'\n",
      "print numpy.corrcoef(X_orth.T)\n"
     ],
     "language": "python",
     "metadata": {},
     "outputs": [
      {
       "output_type": "stream",
       "stream": "stdout",
       "text": [
        "Correlation matrix for original design matrix\n",
        "[[ 1.    0.51]\n",
        " [ 0.51  1.  ]]\n",
        "Correlation matrix for orthogonalized design matrix\n",
        "[[  1.00e+00  -3.10e-17]\n",
        " [ -3.10e-17   1.00e+00]]\n"
       ]
      }
     ],
     "prompt_number": 4
    },
    {
     "cell_type": "markdown",
     "metadata": {},
     "source": [
      "As intended, the correlation between the two regressors is effectively zero after orthogonalization. Now \n",
      "let's estimate the model parameters using the orthogonalized design matrix:"
     ]
    },
    {
     "cell_type": "code",
     "collapsed": false,
     "input": [
      "params_est_orth =  numpy.linalg.lstsq(X_orth,Y)[0]\n",
      "\n",
      "print params_est_orth"
     ],
     "language": "python",
     "metadata": {},
     "outputs": [
      {
       "output_type": "stream",
       "stream": "stdout",
       "text": [
        "[ 2.06  1.98]\n"
       ]
      }
     ],
     "prompt_number": 5
    },
    {
     "cell_type": "markdown",
     "metadata": {},
     "source": [
      "Note that the parameter estimate for the orthogonalized regressor is exactly the same as it was in the original model;\n",
      "it is only the estimate for the other (orthogonalized-against) regressor that changes after orthogonalization.  That's\n",
      "because shared variance between the two regressors has been assigned to X[0], whereas previously it was unassigned."
     ]
    },
    {
     "cell_type": "markdown",
     "metadata": {},
     "source": [
      "Note also that testing the second regressor will yield exactly the same test value. Testing for the first regressor, on the contrary, will yield a much smaller p value as the variance explained by this regressor contains the shared variance of both regressors.  "
     ]
    },
    {
     "cell_type": "markdown",
     "metadata": {},
     "source": [
      "More generally, orthogonalizing the two first regressors $X_0$ of the design matrix $X$ will look like:"
     ]
    },
    {
     "cell_type": "code",
     "collapsed": false,
     "input": [
      "# Make X nptsx10\n",
      "X = np.random.normal(0,1,(npts,10))\n",
      "X = X - X.mean(axis=0)\n",
      "X0 = X[:,:2]\n",
      "X1 = X[:,2:]\n",
      "\n",
      "# Orthogonolizing X0 with respect to X1: \n",
      "X0_orthog_wrt_X1 = X0 - np.dot(X1,np.linalg.pinv(X1)).dot(X0)\n",
      "\n",
      "# reconstruct the new X matrix : Xorth\n",
      "Xorth = np.hstack((X0_orthog_wrt_X1, X1))\n",
      "\n",
      "# checking that the covariance of the two first regressors with others is 0\n",
      "# look at the 5 first regressors\n",
      "print np.corrcoef(Xorth.T)[:5,:5]"
     ],
     "language": "python",
     "metadata": {},
     "outputs": [
      {
       "output_type": "stream",
       "stream": "stdout",
       "text": [
        "[[  1.00e+00   8.98e-02   6.79e-18   5.83e-17   1.24e-17]\n",
        " [  8.98e-02   1.00e+00   4.19e-17   1.45e-16   1.36e-16]\n",
        " [  6.79e-18   4.19e-17   1.00e+00   1.61e-02   8.74e-02]\n",
        " [  5.83e-17   1.45e-16   1.61e-02   1.00e+00  -7.60e-02]\n",
        " [  1.24e-17   1.36e-16   8.74e-02  -7.60e-02   1.00e+00]]\n"
       ]
      }
     ],
     "prompt_number": 6
    }
   ],
   "metadata": {}
  }
 ]
}