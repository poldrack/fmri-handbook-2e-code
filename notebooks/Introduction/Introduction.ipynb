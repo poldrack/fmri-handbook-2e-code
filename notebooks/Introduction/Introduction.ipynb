{
 "cells": [
  {
   "cell_type": "markdown",
   "metadata": {},
   "source": [
    "Figures from Chapter 1 of Poldrack et al., Handbook of fMRI Data Analysis"
   ]
  },
  {
   "cell_type": "code",
   "execution_count": 4,
   "metadata": {
    "collapsed": false,
    "jupyter": {
     "outputs_hidden": false
    },
    "scrolled": true
   },
   "outputs": [],
   "source": [
    "from Bio import Entrez\n",
    "import numpy as np\n",
    "import pandas as pd\n",
    "import os\n",
    "import sys\n",
    "\n",
    "\n",
    "#from fmrihandbook.utils.config import Config\n",
    "from fmrihandbook.utils.show_image import showPDF\n",
    "import matplotlib.pyplot as plt\n",
    "%matplotlib inline\n",
    "\n",
    "img_format='pdf'\n",
    "# config=Config()\n"
   ]
  },
  {
   "cell_type": "markdown",
   "metadata": {},
   "source": [
    "__Figure 1.1:__ "
   ]
  },
  {
   "cell_type": "code",
   "execution_count": 5,
   "metadata": {
    "collapsed": false,
    "jupyter": {
     "outputs_hidden": false
    }
   },
   "outputs": [
    {
     "ename": "NameError",
     "evalue": "name 'config' is not defined",
     "output_type": "error",
     "traceback": [
      "\u001b[0;31m---------------------------------------------------------------------------\u001b[0m",
      "\u001b[0;31mNameError\u001b[0m                                 Traceback (most recent call last)",
      "\u001b[0;32m<ipython-input-5-e4481d50da0f>\u001b[0m in \u001b[0;36m<module>\u001b[0;34m\u001b[0m\n\u001b[0;32m----> 1\u001b[0;31m \u001b[0mshowPDF\u001b[0m\u001b[0;34m(\u001b[0m\u001b[0mos\u001b[0m\u001b[0;34m.\u001b[0m\u001b[0mpath\u001b[0m\u001b[0;34m.\u001b[0m\u001b[0mjoin\u001b[0m\u001b[0;34m(\u001b[0m\u001b[0mconfig\u001b[0m\u001b[0;34m.\u001b[0m\u001b[0morig_figuredir\u001b[0m\u001b[0;34m,\u001b[0m\u001b[0;34m'Figure_1_1.pdf'\u001b[0m\u001b[0;34m)\u001b[0m\u001b[0;34m)\u001b[0m\u001b[0;34m\u001b[0m\u001b[0;34m\u001b[0m\u001b[0m\n\u001b[0m",
      "\u001b[0;31mNameError\u001b[0m: name 'config' is not defined"
     ]
    }
   ],
   "source": [
    "showPDF(os.path.join(config.orig_figuredir,'Figure_1_1.pdf'))"
   ]
  },
  {
   "cell_type": "code",
   "execution_count": null,
   "metadata": {
    "collapsed": false,
    "jupyter": {
     "outputs_hidden": false
    }
   },
   "outputs": [],
   "source": [
    "def get_pubmed_query_results(query,entrez_email=config.email,retmax=20000):\n",
    "    print('searching for',query)\n",
    "    Entrez.email=entrez_email\n",
    "    handle=Entrez.esearch(db='pubmed',term=query,retmax=retmax)\n",
    "    record = Entrez.read(handle)\n",
    "    return record"
   ]
  },
  {
   "cell_type": "code",
   "execution_count": null,
   "metadata": {
    "collapsed": false,
    "jupyter": {
     "outputs_hidden": false
    }
   },
   "outputs": [],
   "source": [
    "\n",
    "if not config.email:\n",
    "    raise Exception('you must first set your email address for your Entrez account')\n",
    "\n",
    "nhits=[]\n",
    "years=[]\n",
    "for year in range(1990,2019):\n",
    "    query='(\"fMRI\" OR \"functional MRI\" OR \"functional magnetic resonance imaging\") AND %d[DP]'%year\n",
    "    results=get_pubmed_query_results(query)\n",
    "    nhits.append(len(results['IdList']))\n",
    "    years.append(year)\n",
    "    "
   ]
  },
  {
   "cell_type": "code",
   "execution_count": null,
   "metadata": {
    "collapsed": false,
    "jupyter": {
     "outputs_hidden": false
    }
   },
   "outputs": [],
   "source": [
    "plt.plot(years,nhits)\n",
    "plt.xlabel('Year',fontsize=18)\n",
    "plt.ylabel('# of Pubmed abstracts',fontsize=18)\n",
    "\n",
    "plt.savefig(os.path.join(config.figuredir,'Figure_1_1.'+config.img_format),format=config.img_format,dpi=1200)\n",
    "\n",
    "plt.figure()\n",
    "cumhits=numpy.zeros(len(years))\n",
    "for i in range(len(years)):\n",
    "    cumhits[i]=numpy.sum(nhits[:(i+1)])\n",
    "plt.plot(years,cumhits)\n",
    "plt.xlabel('Year',fontsize=18)\n",
    "plt.ylabel('Cumulative # of hits',fontsize=18)\n",
    "plt.tight_layout()\n",
    "plt.savefig('cumhits_by_year.pdf')\n"
   ]
  },
  {
   "cell_type": "code",
   "execution_count": null,
   "metadata": {
    "collapsed": false,
    "jupyter": {
     "outputs_hidden": false
    }
   },
   "outputs": [],
   "source": [
    "hitsDf = pandas.DataFrame({'years':years,'hits':nhits,'cumulativehits':cumhits})\n",
    "print(hitsDf)\n",
    "hitsDf.to_csv('pubmed_hits.tsv',index=False,sep='\\t')"
   ]
  },
  {
   "cell_type": "code",
   "execution_count": null,
   "metadata": {},
   "outputs": [],
   "source": [
    "5721/52\n"
   ]
  },
  {
   "cell_type": "markdown",
   "metadata": {},
   "source": [
    "__Figure 1.2:__ "
   ]
  },
  {
   "cell_type": "code",
   "execution_count": null,
   "metadata": {
    "collapsed": false,
    "jupyter": {
     "outputs_hidden": false
    },
    "scrolled": true
   },
   "outputs": [],
   "source": [
    "showPDF(os.path.join(config.orig_figuredir,'Figure_1_2.pdf'))\n"
   ]
  },
  {
   "cell_type": "code",
   "execution_count": null,
   "metadata": {
    "collapsed": false,
    "jupyter": {
     "outputs_hidden": false
    }
   },
   "outputs": [],
   "source": [
    "import scipy.io\n",
    "data=scipy.io.loadmat('forRuss.mat')\n",
    "hrfdata=data['allmnresps']\n",
    "hrfdata.shape\n",
    "\n",
    "timepoints=numpy.arange(0,16,0.25)\n",
    "print(timepoints.shape)\n",
    "plt.plot(timepoints,hrfdata[:,1,:]*100,linewidth=2)\n",
    "plt.ylabel('% change in BOLD signal',fontsize=18)\n",
    "plt.xlabel('Peristimulus time (secs)',fontsize=18)\n",
    "\n",
    "plt.savefig(os.path.join(config.figuredir,'Figure_1_2.'+config.img_format),format=config.img_format,dpi=1200)\n"
   ]
  },
  {
   "cell_type": "markdown",
   "metadata": {},
   "source": [
    "__Figure 1.3:__ "
   ]
  },
  {
   "cell_type": "code",
   "execution_count": null,
   "metadata": {
    "collapsed": false,
    "jupyter": {
     "outputs_hidden": false
    }
   },
   "outputs": [],
   "source": [
    "showPDF(os.path.join(config.orig_figuredir,'Figure_1_3.pdf'))\n",
    "\n"
   ]
  },
  {
   "cell_type": "markdown",
   "metadata": {},
   "source": [
    "__Figure 1.4:__ "
   ]
  },
  {
   "cell_type": "code",
   "execution_count": null,
   "metadata": {
    "collapsed": false,
    "jupyter": {
     "outputs_hidden": false
    }
   },
   "outputs": [],
   "source": [
    "showPDF(os.path.join(config.orig_figuredir,'Figure_1_4.pdf'))\n",
    "\n"
   ]
  },
  {
   "cell_type": "code",
   "execution_count": null,
   "metadata": {
    "collapsed": true,
    "jupyter": {
     "outputs_hidden": true
    }
   },
   "outputs": [],
   "source": []
  }
 ],
 "metadata": {
  "kernelspec": {
   "display_name": "Python 3",
   "language": "python",
   "name": "python3"
  },
  "language_info": {
   "codemirror_mode": {
    "name": "ipython",
    "version": 3
   },
   "file_extension": ".py",
   "mimetype": "text/x-python",
   "name": "python",
   "nbconvert_exporter": "python",
   "pygments_lexer": "ipython3",
   "version": "3.8.10"
  }
 },
 "nbformat": 4,
 "nbformat_minor": 4
}
